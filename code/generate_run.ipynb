{
 "cells": [
  {
   "cell_type": "code",
   "execution_count": 1,
   "metadata": {},
   "outputs": [],
   "source": [
    "import pandas as pd\n",
    "import os\n",
    "import math\n",
    "import numpy as np\n",
    "import itertools as it\n",
    "import random\n",
    "import json"
   ]
  },
  {
   "cell_type": "code",
   "execution_count": 2,
   "metadata": {},
   "outputs": [],
   "source": [
    "def lammps_cin(exp_dir, rnds, trial, shape, params):\n",
    "    lammps_dir = exp_dir+f\"/input/{shape}_{params['bondcoeff']}_{params['r']}_{params['s0']}_{params['s1']}_{trial}.lammps\"\n",
    "    output_dir = f\"../output/{shape}_{params['bondcoeff']}_{params['r']}_{params['s0']}_{params['s1']}_{trial}\"\n",
    "    log_dir = f\"../log/{shape}_{params['bondcoeff']}_{params['r']}_{params['s0']}_{params['s1']}_{trial}.log\"\n",
    "    with open(lammps_dir, \"w\") as f:\n",
    "        f.write('# LAMMPS script to create a bacteria swiming through a polymer network\\n')\n",
    "        f.write(f'#log {log_dir}\\n\\n')\n",
    "        f.write(f'''\n",
    "variable s0 equal {params['s0']}\n",
    "variable s1 equal {params['s1']}\n",
    "variable k equal {params['bondcoeff']}*${{s0}}\n",
    "variable r equal {params['r']}\n",
    "variable s equal ${{r}}/1\n",
    "variable pc12 equal round((${{r}}+1)/2*2^(1/6)*10000)/10000\n",
    "variable pc22 equal round(${{r}}*2^(1/6)*10000)/10000\n",
    "\n",
    "print \"${{pc12}} ${{pc22}}\"\n",
    "\n",
    "units nano \n",
    "boundary p p p \n",
    "atom_style angle\n",
    "\n",
    "pair_style lj/cut 1.1225\n",
    "bond_style harmonic\n",
    "angle_style harmonic\n",
    "\n",
    "read_data ./stretched_{params['bondcoeff']}_${{s0}}_${{s1}}.data extra/atom/types 1 extra/bond/types 1 extra/angle/types 1\n",
    "read_data ./{shape}_${{s0}}_${{s1}}.data add append offset 1 1 1 0 0\n",
    "\n",
    "pair_coeff 1 1 1 1 1.1225\n",
    "pair_coeff 1 2 1 1 ${{pc12}}\n",
    "pair_coeff 2 2 0 1 ${{pc22}}\n",
    "\n",
    "bond_coeff 1 {params['spring_const']} ${{k}}\n",
    "bond_coeff 2 0 0\n",
    "\n",
    "angle_coeff 1 5.52 180\n",
    "angle_coeff 2 0 0\n",
    "\n",
    "group polymer type 1\n",
    "group bacteria type 2\n",
    "group non_bacteria subtract all bacteria\n",
    "\n",
    "displace_atoms bacteria move {params['x']} {params['y']} {params['z']} units box\n",
    "\n",
    "variable x0 equal x[18751]\n",
    "variable y0 equal y[18751]\n",
    "variable z0 equal z[18751]\n",
    "\n",
    "variable dix atom (x-${{x0}})*(${{s}}-1)\n",
    "variable diy atom (y-${{y0}})*(${{s}}-1)\n",
    "variable diz atom (z-${{z0}})*(${{s}}-1)\n",
    "\n",
    "displace_atoms bacteria move v_dix v_diy v_diz units box\n",
    "\n",
    "neighbor 5 bin\n",
    "neigh_modify every 1 delay 0 check yes\n",
    "\n",
    "compute bac_chunk bacteria chunk/atom molecule\n",
    "compute bac_com bacteria com/chunk bac_chunk\n",
    "compute com_v bacteria vcm/chunk bac_chunk\n",
    "compute 1 non_bacteria property/local batom1 batom2 btype\n",
    "compute 2 non_bacteria bond/local dist engpot force\n",
    "\n",
    "# Access the coordinates of atom 1 and atom 5\n",
    "variable x1 equal x[18751]\n",
    "variable y1 equal y[18751]\n",
    "variable z1 equal z[18751]\n",
    "variable x5 equal x[18763]\n",
    "variable y5 equal y[18763]\n",
    "variable z5 equal z[18763]\n",
    "\n",
    "# Access simulation box boundaries\n",
    "variable xlo equal xlo\n",
    "variable xhi equal xhi\n",
    "variable ylo equal ylo\n",
    "variable yhi equal yhi\n",
    "variable zlo equal zlo\n",
    "variable zhi equal zhi\n",
    "\n",
    "# Calculate the box lengths in each dimension\n",
    "variable lx equal v_xhi-v_xlo\n",
    "variable ly equal v_yhi-v_ylo\n",
    "variable lz equal v_zhi-v_zlo\n",
    "\n",
    "# Calculate the raw vector components between atom 1 and atom 5\n",
    "variable dx_raw equal v_x5-v_x1\n",
    "variable dy_raw equal v_y5-v_y1\n",
    "variable dz_raw equal v_z5-v_z1\n",
    "\n",
    "# Apply minimum image convention to correct for PBCs\n",
    "variable dx equal v_dx_raw-v_lx*round(v_dx_raw/v_lx)\n",
    "variable dy equal v_dy_raw-v_ly*round(v_dy_raw/v_ly)\n",
    "variable dz equal v_dz_raw-v_lz*round(v_dz_raw/v_lz)\n",
    "\n",
    "# Calculate the magnitude of the corrected vector\n",
    "variable mag equal sqrt(v_dx^2+v_dy^2+v_dz^2)\n",
    "\n",
    "# Calculate force\n",
    "variable fx equal v_dx/v_mag*0.1\n",
    "variable fy equal v_dy/v_mag*0.1\n",
    "variable fz equal v_dz/v_mag*0.1\n",
    "\n",
    "# Calculate torque\n",
    "variable tx equal v_dx/v_mag*0.5*${{s}}^2\n",
    "variable ty equal v_dy/v_mag*0.5*${{s}}^2\n",
    "variable tz equal v_dz/v_mag*0.5*${{s}}^2\n",
    "\n",
    "thermo 5000\n",
    "timestep 0.01\n",
    "\n",
    "fix allnve all nve/limit 0.1\n",
    "fix freeze bacteria setforce 0 0 0\n",
    "fix langevin polymer langevin 300 0 1 456789 zero no\n",
    "\n",
    "run 5000\n",
    "\n",
    "unfix allnve\n",
    "unfix freeze\n",
    "unfix langevin\n",
    "\n",
    "fix allnve all nve\n",
    "fix freeze bacteria setforce 0 0 0\n",
    "fix langevin polymer langevin 0 0 1 456789 zero no\n",
    "\n",
    "run 15000\n",
    "\n",
    "unfix allnve\n",
    "unfix freeze\n",
    "unfix langevin\n",
    "\n",
    "#velocity bacteria create 500.0 {rnds[0]} mom no rot no  # Assign random velocities\n",
    "#fix allnve all nve\n",
    "fix nonbac_nve non_bacteria nve # commented off for fixed beads\n",
    "fix bac_rigid bacteria rigid/nve/small molecule langevin 0 0 1 {rnds[1]} # set bacteria as rigid\n",
    "fix bac_force bacteria addforce v_fx v_fy v_fz\n",
    "fix bac_torque bacteria addtorque v_tx v_ty v_tz\n",
    "fix non_bac_langevin non_bacteria langevin 0 0 1 72601 zero no # commented off for fixed beads\n",
    "#fix fixedbeads non_bacteria setforce 0.0 0.0 0.0 # for fixed beads\n",
    "fix com bacteria ave/time {params['timestep']} 1 {params['timestep']} c_bac_com[*] c_com_v[*] file {output_dir}.com mode vector\n",
    "\n",
    "#dump all all movie {params['timestep']} {output_dir}_all.mpeg type type zoom 1 box yes 0.01 view 120 85 size 1920 1080 shiny 0.5\n",
    "#dump bac bacteria movie {params['timestep']} {output_dir}_bac.mpeg type type zoom 1 box yes 0.01 view 120 85 size 1920 1080 shiny 0.5\n",
    "dump 3 bacteria custom {params['timestep']} {output_dir}.atoms id type x y z vx vy vz\n",
    "dump 4 non_bacteria local 500000 {output_dir}.bond index c_1[1] c_1[2] c_2[1] c_2[2] c_2[3]\n",
    "\n",
    "#dump_modify all adiam 1 1.0\n",
    "#dump_modify all adiam 2 ${{r}}\n",
    "#dump_modify bac adiam 1 1.0\n",
    "#dump_modify bac adiam 2 ${{r}}\n",
    "\n",
    "run 500000\n",
    "''')\n",
    "\n",
    "        \n"
   ]
  },
  {
   "cell_type": "code",
   "execution_count": 3,
   "metadata": {},
   "outputs": [],
   "source": [
    "n = 1000 # n different runs\n",
    "# Generate three random 5-digit numbers\n",
    "rnds = [random.randint(10000, 99999) for _ in range(n*2)] # random seeds for polymer generation\n",
    "# rnds"
   ]
  },
  {
   "cell_type": "code",
   "execution_count": 4,
   "metadata": {},
   "outputs": [
    {
     "data": {
      "text/plain": [
       "'../springconst_0.2/'"
      ]
     },
     "execution_count": 4,
     "metadata": {},
     "output_type": "execute_result"
    }
   ],
   "source": [
    "exp_dir = f'../springconst_0.2/'\n",
    "exp_dir"
   ]
  },
  {
   "cell_type": "code",
   "execution_count": 5,
   "metadata": {},
   "outputs": [],
   "source": [
    "# exp_dir = f'../{\"_\".join(map(str, n_poly))}_compact{num_atoms}_l1'\n",
    "if not os.path.exists(exp_dir):\n",
    "    os.makedirs(exp_dir)\n",
    "    os.makedirs(f'{exp_dir}/input')\n",
    "    os.makedirs(f'{exp_dir}/output')\n",
    "    os.makedirs(f'{exp_dir}/log')\n",
    "    os.makedirs(f'{exp_dir}/slurm_log')\n",
    "    os.makedirs(f'{exp_dir}/code')\n",
    "    os.makedirs(f'{exp_dir}/analysis')"
   ]
  },
  {
   "cell_type": "code",
   "execution_count": 6,
   "metadata": {},
   "outputs": [],
   "source": [
    "params = {'r': 1.0, # radius of bacteria atom \n",
    "'s0': 0.5,  # shrink factor\n",
    "'s1': 1.2, # stretch factor\n",
    "'timestep': 500, \n",
    "'bondcoeff': 2.5, \n",
    "'thermo': 10000, \n",
    "'spring_const': 0.2} # dump every timestep"
   ]
  },
  {
   "attachments": {},
   "cell_type": "markdown",
   "metadata": {},
   "source": [
    "## if using rnds from other files"
   ]
  },
  {
   "cell_type": "code",
   "execution_count": 7,
   "metadata": {},
   "outputs": [],
   "source": [
    "with open(os.path.join('../1000runs/', 'rnd.json')) as f:\n",
    "    temp = json.load(f)"
   ]
  },
  {
   "cell_type": "code",
   "execution_count": 8,
   "metadata": {},
   "outputs": [],
   "source": [
    "rnds = temp['rnd']"
   ]
  },
  {
   "cell_type": "code",
   "execution_count": 9,
   "metadata": {},
   "outputs": [],
   "source": [
    "xs = temp['x']\n",
    "ys = temp['y']\n",
    "zs = temp['z']\n",
    "for i in range(n):\n",
    "    rnd = rnds[i*2:(i+1)*2]\n",
    "    x, y, z = xs[i], ys[i], zs[i]\n",
    "    # x, y, z = [round(random.uniform(-30, 30), 1) for _ in range(3)]\n",
    "    params['x'] = x\n",
    "    params['y'] = y\n",
    "    params['z'] = z\n",
    "    # print(params)\n",
    "    lammps_cin(exp_dir=exp_dir, rnds=rnd, trial=i, shape='str', params=params)\n",
    "    lammps_cin(exp_dir=exp_dir, rnds=rnd, trial=i, shape='cur', params=params)"
   ]
  },
  {
   "attachments": {},
   "cell_type": "markdown",
   "metadata": {},
   "source": [
    "## if using rnds generated from this run"
   ]
  },
  {
   "cell_type": "code",
   "execution_count": 16,
   "metadata": {},
   "outputs": [],
   "source": [
    "xs = []\n",
    "ys = []\n",
    "zs = []\n",
    "for i in range(n):\n",
    "    rnd = rnds[i*2:(i+1)*2]\n",
    "    x, y, z = random.sample(range(-30, 30), 3)\n",
    "    xs.append(x)\n",
    "    ys.append(y)\n",
    "    zs.append(z)\n",
    "    # x, y, z = [round(random.uniform(-30, 30), 1) for _ in range(3)]\n",
    "    params['x'] = x\n",
    "    params['y'] = y\n",
    "    params['z'] = z\n",
    "    # print(params)\n",
    "    lammps_cin(exp_dir=exp_dir, rnds=rnd, trial=i, shape='str', params=params)\n",
    "    lammps_cin(exp_dir=exp_dir, rnds=rnd, trial=i, shape='cur', params=params)"
   ]
  },
  {
   "cell_type": "code",
   "execution_count": 17,
   "metadata": {},
   "outputs": [],
   "source": [
    "import json\n",
    "data = {'rnd': rnds,\n",
    "        'x': xs,\n",
    "        'y': ys,\n",
    "        'z': zs}\n",
    "with open(os.path.join(exp_dir, 'rnd.json'), \"w\") as f:\n",
    "    json.dump(data, f)"
   ]
  },
  {
   "attachments": {},
   "cell_type": "markdown",
   "metadata": {},
   "source": [
    "----"
   ]
  },
  {
   "cell_type": "code",
   "execution_count": 22,
   "metadata": {},
   "outputs": [],
   "source": [
    "bondcoeffs = [1.0, 1.5, 2.0, 2.5, 3.0, 3.5, 4.0, 4.5, 5.0]\n",
    "for bc in bondcoeffs:\n",
    "    params = {'r': 1.5, # radius of bacteria atom \n",
    "    's0': 0.5,  # shrink factor\n",
    "    's1': 1.2, # stretch factor\n",
    "    'timestep': 500, \n",
    "    'bondcoeff': bc} # dump every timestep\n",
    "    for i in range(n):\n",
    "        rnd = rnds[i*2:(i+1)*2]\n",
    "        lammps_cin(exp_dir=exp_dir, rnds=rnd, trial=i, shape='str', params=params)\n",
    "        lammps_cin(exp_dir=exp_dir, rnds=rnd, trial=i, shape='cur', params=params)"
   ]
  }
 ],
 "metadata": {
  "kernelspec": {
   "display_name": "curvature",
   "language": "python",
   "name": "python3"
  },
  "language_info": {
   "codemirror_mode": {
    "name": "ipython",
    "version": 3
   },
   "file_extension": ".py",
   "mimetype": "text/x-python",
   "name": "python",
   "nbconvert_exporter": "python",
   "pygments_lexer": "ipython3",
   "version": "3.12.8"
  },
  "orig_nbformat": 4
 },
 "nbformat": 4,
 "nbformat_minor": 2
}
