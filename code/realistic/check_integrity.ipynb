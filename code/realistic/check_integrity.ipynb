{
 "cells": [
  {
   "cell_type": "code",
   "execution_count": null,
   "metadata": {},
   "outputs": [],
   "source": [
    "import pandas as pd\n",
    "import matplotlib.pyplot as plt\n",
    "from pathlib import Path\n",
    "import os\n",
    "import numpy as np"
   ]
  },
  {
   "cell_type": "code",
   "execution_count": null,
   "metadata": {},
   "outputs": [],
   "source": [
    "import itertools\n",
    "import os\n",
    "import numpy as np\n",
    "\n",
    "# Define the parameter sets\n",
    "a_values = ['cur']\n",
    "b_values = [2.5] #[2.0, 2.5, 3.0, 3.5, 4.0, 4.5, 5.0]\n",
    "c_values = [1.0]\n",
    "d_values = list(range(1000))\n",
    "\n",
    "# Generate all expected filenames\n",
    "expected_files = {\n",
    "    f\"{a}_{b}_{c}_0.5_1.2_{d}.com\"\n",
    "    for a, b, c, d in itertools.product(a_values, b_values, c_values, d_values)\n",
    "}"
   ]
  },
  {
   "cell_type": "code",
   "execution_count": null,
   "metadata": {},
   "outputs": [],
   "source": [
    "existing_files = set(f for f in os.listdir('../output/') if f.endswith('.com'))\n",
    "print(len(existing_files), len(expected_files))"
   ]
  },
  {
   "cell_type": "code",
   "execution_count": null,
   "metadata": {},
   "outputs": [],
   "source": [
    "for suffix in ['.com', '.atoms', '.bond', '.mpeg']:\n",
    "    l = set(f for f in os.listdir('../output/') if f.endswith(suffix))\n",
    "    print(suffix, len(l))"
   ]
  },
  {
   "cell_type": "code",
   "execution_count": null,
   "metadata": {},
   "outputs": [],
   "source": [
    "# Find missing files\n",
    "missing_files = expected_files - existing_files\n",
    "# missing_files = ['../input/'+f.replace('com', 'lammps') for f in missing_files]\n",
    "missing_files = ['./'+f.replace('com', 'lammps') for f in missing_files]\n",
    "len(missing_files)\n"
   ]
  },
  {
   "cell_type": "code",
   "execution_count": null,
   "metadata": {},
   "outputs": [],
   "source": [
    "def get_file_sizes(files):\n",
    "    file_sizes = {}\n",
    "    for file in files:\n",
    "        if os.path.exists(file):\n",
    "            size = os.path.getsize(file)  # Get size in bytes\n",
    "            file_sizes[file] = size\n",
    "        else:\n",
    "            file_sizes[file] = 'File not found'\n",
    "    return file_sizes"
   ]
  },
  {
   "cell_type": "code",
   "execution_count": null,
   "metadata": {},
   "outputs": [],
   "source": [
    "basedir = Path('../output')\n",
    "files = [str(p) for p in basedir.glob('*_2.5_*_*_*_*.bond') if p.is_file()]\n",
    "\n",
    "sizes = []\n",
    "for f in files:\n",
    "    size = os.path.getsize(f)\n",
    "    sizes.append(size)\n"
   ]
  },
  {
   "cell_type": "code",
   "execution_count": null,
   "metadata": {},
   "outputs": [],
   "source": [
    "\n",
    "df = pd.DataFrame({'file': files, 'size': sizes})"
   ]
  },
  {
   "cell_type": "code",
   "execution_count": null,
   "metadata": {},
   "outputs": [],
   "source": [
    "failed = df[df['size'] < 1]\n",
    "failed.shape"
   ]
  },
  {
   "cell_type": "code",
   "execution_count": null,
   "metadata": {},
   "outputs": [],
   "source": [
    "# failed_files = ['../input/'+f.split('/')[-1].replace('bond', 'lammps') for f in failed['file'].values]\n",
    "failed_files = ['./'+f.split('/')[-1].replace('bond', 'lammps') for f in failed['file'].values]\n",
    "# failed_files\n",
    "len(failed_files)"
   ]
  },
  {
   "cell_type": "code",
   "execution_count": null,
   "metadata": {},
   "outputs": [],
   "source": [
    "output = failed_files+missing_files\n",
    "len(output)\n",
    "print(output)"
   ]
  },
  {
   "cell_type": "code",
   "execution_count": null,
   "metadata": {},
   "outputs": [],
   "source": [
    "output = [\"  \\\"\"+o+\"\\\"\" for o in output]"
   ]
  },
  {
   "cell_type": "code",
   "execution_count": null,
   "metadata": {},
   "outputs": [],
   "source": [
    "with open('rerun.txt', 'w') as f:\n",
    "    f.write('\\n'.join(output))\n",
    "    f.write('\\n')"
   ]
  }
 ],
 "metadata": {
  "kernelspec": {
   "display_name": "curvature",
   "language": "python",
   "name": "python3"
  },
  "language_info": {
   "codemirror_mode": {
    "name": "ipython",
    "version": 3
   },
   "file_extension": ".py",
   "mimetype": "text/x-python",
   "name": "python",
   "nbconvert_exporter": "python",
   "pygments_lexer": "ipython3",
   "version": "3.12.8"
  }
 },
 "nbformat": 4,
 "nbformat_minor": 2
}
