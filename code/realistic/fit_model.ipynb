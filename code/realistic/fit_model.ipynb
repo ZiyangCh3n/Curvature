{
 "cells": [
  {
   "cell_type": "code",
   "execution_count": 1,
   "metadata": {},
   "outputs": [],
   "source": [
    "import pandas as pd\n",
    "import numpy as np\n",
    "import os\n",
    "import matplotlib.pyplot as plt\n",
    "import seaborn as sns\n",
    "from pathlib import Path\n",
    "from scipy.optimize import curve_fit\n",
    "from sklearn.metrics import r2_score"
   ]
  },
  {
   "cell_type": "code",
   "execution_count": 2,
   "metadata": {},
   "outputs": [],
   "source": [
    "def power_law(x, a, b):\n",
    "    return a * np.power(x, b)\n",
    "\n",
    "def exponential(x, a, b):\n",
    "    return a * np.exp(b * x)\n",
    "\n",
    "def stretched_exponential(x, a, b, c):\n",
    "    return a * np.exp(-np.power(b * x, c))"
   ]
  },
  {
   "cell_type": "code",
   "execution_count": 3,
   "metadata": {},
   "outputs": [
    {
     "data": {
      "text/plain": [
       "['../analysis/distance.csv']"
      ]
     },
     "execution_count": 3,
     "metadata": {},
     "output_type": "execute_result"
    }
   ],
   "source": [
    "basedir = Path('../analysis/')\n",
    "dst_dirs = [str(p) for p in basedir.glob('distance*.csv') if p.is_file()]\n",
    "bac_length = 4\n",
    "dst_dirs"
   ]
  },
  {
   "cell_type": "code",
   "execution_count": 4,
   "metadata": {},
   "outputs": [],
   "source": [
    "def calc_params(df, shape, f):\n",
    "    trv = df[df['shape']==shape]['trv']\n",
    "    ct, bins = np.histogram(trv, bins=np.arange(0, np.ceil(df['trv'].max())), density=False)\n",
    "    cum = np.cumsum(ct[::-1])\n",
    "    rev_bin = bins[::-1]\n",
    "    x = rev_bin[:-1]\n",
    "    y = cum\n",
    "    params_power, _ = curve_fit(power_law, x, y, p0=[1, -1])\n",
    "    params_exp, _ = curve_fit(exponential, x, y, p0=[1, 0.01])\n",
    "    params_stretch, _ = curve_fit(stretched_exponential, x, y, p0=[1, 0.01, 1], \n",
    "                                bounds=([0, 0, 0], [np.inf, np.inf, 10]), maxfev=5000)\n",
    "    x_fit = np.linspace(min(x), max(x), 500)\n",
    "    y_power_fit = power_law(x_fit, *params_power)\n",
    "    y_exp_fit = exponential(x_fit, *params_exp)\n",
    "    y_stretch_fit = stretched_exponential(x_fit, *params_stretch)\n",
    "    y_power_pred = power_law(x, *params_power)\n",
    "    y_exp_pred = exponential(x, *params_exp)\n",
    "    y_stretch_pred = stretched_exponential(x, *params_stretch)\n",
    "    r2_power = r2_score(y, y_power_pred)\n",
    "    r2_exp = r2_score(y, y_exp_pred)\n",
    "    r2_stretch = r2_score(y, y_stretch_pred)\n",
    "    plt.scatter(x, y, label=\"Data\", color=\"black\", s=10)\n",
    "    plt.plot(x_fit, y_power_fit, label=f\"Power Law: $R^2$ = {r2_power:.3f}\", linewidth=2)\n",
    "    plt.plot(x_fit, y_exp_fit, label=f\"Exponential: $R^2$ = {r2_exp:.3f}\", linewidth=2, linestyle=\"--\")\n",
    "    plt.plot(x_fit, y_stretch_fit, label=f\"Stretched Exp.: $R^2$ = {r2_stretch:.3f}\", linewidth=2, linestyle=\":\")\n",
    "    plt.xlabel(\"x\")\n",
    "    plt.ylabel(\"y\")\n",
    "    plt.title(f\"{f}: {len(trv)} trials\")\n",
    "    plt.legend()\n",
    "    plt.savefig(f\"../fit/{f}.png\")\n",
    "    plt.close()\n",
    "    with open(f\"../fit/{f}.params\", 'w') as r:\n",
    "        r.write(f\"Power Law: {params_power}\\n\")\n",
    "        r.write(f\"Exponential: {params_exp}\\n\")\n",
    "        r.write(f\"Stretched Exponential: {params_stretch}\\n\")\n",
    "\n"
   ]
  },
  {
   "cell_type": "code",
   "execution_count": 6,
   "metadata": {},
   "outputs": [],
   "source": [
    "if not os.path.exists('../fit'):\n",
    "    os.mkdir('../fit')"
   ]
  },
  {
   "cell_type": "code",
   "execution_count": 7,
   "metadata": {},
   "outputs": [],
   "source": [
    "for f in dst_dirs:\n",
    "    df = pd.read_csv(f)\n",
    "    df['diam'] = [float(i.split('_')[2]) for i in df['name']]\n",
    "    df['bondcoeff'] = [float(i.split('_')[1]) for i in df['name']]\n",
    "    df['ete'] = df['ete']/df['diam']/bac_length\n",
    "    df['trv'] = df['trv']/df['diam']/bac_length\n",
    "    calc_params(df, 'cur', 'curved_modelfit')\n",
    "    calc_params(df, 'str', 'straight_modelfit')"
   ]
  },
  {
   "cell_type": "markdown",
   "metadata": {},
   "source": [
    "grab all params"
   ]
  },
  {
   "cell_type": "code",
   "execution_count": 7,
   "metadata": {},
   "outputs": [
    {
     "data": {
      "text/plain": [
       "['../fit/straight_modelfit.params', '../fit/curved_modelfit.params']"
      ]
     },
     "execution_count": 7,
     "metadata": {},
     "output_type": "execute_result"
    }
   ],
   "source": [
    "basedir = Path('../fit/')\n",
    "dst_dirs = [str(p) for p in basedir.glob('*.params') if p.is_file()]\n",
    "dst_dirs"
   ]
  },
  {
   "cell_type": "code",
   "execution_count": 8,
   "metadata": {},
   "outputs": [],
   "source": [
    "read_params = {}\n",
    "for p in dst_dirs:\n",
    "    with open(p, 'r') as f:\n",
    "        read_params[p] = f.readlines()"
   ]
  },
  {
   "cell_type": "code",
   "execution_count": 9,
   "metadata": {},
   "outputs": [
    {
     "data": {
      "text/plain": [
       "'modelfit.params'"
      ]
     },
     "execution_count": 9,
     "metadata": {},
     "output_type": "execute_result"
    }
   ],
   "source": [
    "# p.split('_')[1].split('.csv')[0]"
   ]
  },
  {
   "cell_type": "code",
   "execution_count": 10,
   "metadata": {},
   "outputs": [
    {
     "data": {
      "text/plain": [
       "{'../fit/straight_modelfit.params': ['Power Law: [ 1.53051709e+03 -3.75822716e-01]\\n',\n",
       "  'Exponential: [ 1.00121993e+03 -1.94905355e-02]\\n',\n",
       "  'Stretched Exponential: [9.78605491e+02 1.89314691e-02 1.05262921e+00]\\n'],\n",
       " '../fit/curved_modelfit.params': ['Power Law: [ 1.53591860e+03 -3.04141484e-01]\\n',\n",
       "  'Exponential: [ 1.05358380e+03 -1.42978761e-02]\\n',\n",
       "  'Stretched Exponential: [9.62506492e+02 1.31584783e-02 1.30047547e+00]\\n']}"
      ]
     },
     "execution_count": 10,
     "metadata": {},
     "output_type": "execute_result"
    }
   ],
   "source": [
    "read_params"
   ]
  },
  {
   "cell_type": "markdown",
   "metadata": {},
   "source": [
    "end\n",
    "----"
   ]
  }
 ],
 "metadata": {
  "kernelspec": {
   "display_name": "curvature",
   "language": "python",
   "name": "python3"
  },
  "language_info": {
   "codemirror_mode": {
    "name": "ipython",
    "version": 3
   },
   "file_extension": ".py",
   "mimetype": "text/x-python",
   "name": "python",
   "nbconvert_exporter": "python",
   "pygments_lexer": "ipython3",
   "version": "3.12.8"
  }
 },
 "nbformat": 4,
 "nbformat_minor": 2
}
