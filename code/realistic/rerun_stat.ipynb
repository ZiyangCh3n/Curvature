{
 "cells": [
  {
   "cell_type": "markdown",
   "metadata": {},
   "source": [
    "### check for rerun based on runtime"
   ]
  },
  {
   "cell_type": "code",
   "execution_count": 11,
   "metadata": {},
   "outputs": [],
   "source": [
    "import pandas as pd\n",
    "import numpy as np\n",
    "import matplotlib.pyplot as plt\n",
    "import os"
   ]
  },
  {
   "cell_type": "code",
   "execution_count": 12,
   "metadata": {},
   "outputs": [],
   "source": [
    "dis_dir = '../analysis/distance.csv'"
   ]
  },
  {
   "cell_type": "code",
   "execution_count": 13,
   "metadata": {},
   "outputs": [
    {
     "data": {
      "text/html": [
       "<div>\n",
       "<style scoped>\n",
       "    .dataframe tbody tr th:only-of-type {\n",
       "        vertical-align: middle;\n",
       "    }\n",
       "\n",
       "    .dataframe tbody tr th {\n",
       "        vertical-align: top;\n",
       "    }\n",
       "\n",
       "    .dataframe thead th {\n",
       "        text-align: right;\n",
       "    }\n",
       "</style>\n",
       "<table border=\"1\" class=\"dataframe\">\n",
       "  <thead>\n",
       "    <tr style=\"text-align: right;\">\n",
       "      <th></th>\n",
       "      <th>name</th>\n",
       "      <th>ete</th>\n",
       "      <th>trv</th>\n",
       "      <th>t</th>\n",
       "      <th>v_mean</th>\n",
       "      <th>v_rms</th>\n",
       "      <th>shape</th>\n",
       "      <th>trial</th>\n",
       "    </tr>\n",
       "  </thead>\n",
       "  <tbody>\n",
       "    <tr>\n",
       "      <th>0</th>\n",
       "      <td>cur_2.5_1.0_0.5_1.2_0</td>\n",
       "      <td>183.623424</td>\n",
       "      <td>283.582327</td>\n",
       "      <td>9020000</td>\n",
       "      <td>0.006324</td>\n",
       "      <td>0.006515</td>\n",
       "      <td>cur</td>\n",
       "      <td>0</td>\n",
       "    </tr>\n",
       "    <tr>\n",
       "      <th>1</th>\n",
       "      <td>cur_2.5_1.0_0.5_1.2_1</td>\n",
       "      <td>137.725260</td>\n",
       "      <td>248.323954</td>\n",
       "      <td>7800000</td>\n",
       "      <td>0.006411</td>\n",
       "      <td>0.006588</td>\n",
       "      <td>cur</td>\n",
       "      <td>1</td>\n",
       "    </tr>\n",
       "    <tr>\n",
       "      <th>2</th>\n",
       "      <td>cur_2.5_1.0_0.5_1.2_10</td>\n",
       "      <td>137.448693</td>\n",
       "      <td>293.666838</td>\n",
       "      <td>9330000</td>\n",
       "      <td>0.006357</td>\n",
       "      <td>0.006581</td>\n",
       "      <td>cur</td>\n",
       "      <td>10</td>\n",
       "    </tr>\n",
       "    <tr>\n",
       "      <th>3</th>\n",
       "      <td>cur_2.5_1.0_0.5_1.2_100</td>\n",
       "      <td>0.688100</td>\n",
       "      <td>1.874456</td>\n",
       "      <td>180000</td>\n",
       "      <td>0.002668</td>\n",
       "      <td>0.002887</td>\n",
       "      <td>cur</td>\n",
       "      <td>100</td>\n",
       "    </tr>\n",
       "    <tr>\n",
       "      <th>4</th>\n",
       "      <td>cur_2.5_1.0_0.5_1.2_101</td>\n",
       "      <td>69.494710</td>\n",
       "      <td>88.154997</td>\n",
       "      <td>2650000</td>\n",
       "      <td>0.006777</td>\n",
       "      <td>0.006891</td>\n",
       "      <td>cur</td>\n",
       "      <td>101</td>\n",
       "    </tr>\n",
       "  </tbody>\n",
       "</table>\n",
       "</div>"
      ],
      "text/plain": [
       "                      name         ete         trv        t    v_mean  \\\n",
       "0    cur_2.5_1.0_0.5_1.2_0  183.623424  283.582327  9020000  0.006324   \n",
       "1    cur_2.5_1.0_0.5_1.2_1  137.725260  248.323954  7800000  0.006411   \n",
       "2   cur_2.5_1.0_0.5_1.2_10  137.448693  293.666838  9330000  0.006357   \n",
       "3  cur_2.5_1.0_0.5_1.2_100    0.688100    1.874456   180000  0.002668   \n",
       "4  cur_2.5_1.0_0.5_1.2_101   69.494710   88.154997  2650000  0.006777   \n",
       "\n",
       "      v_rms shape  trial  \n",
       "0  0.006515   cur      0  \n",
       "1  0.006588   cur      1  \n",
       "2  0.006581   cur     10  \n",
       "3  0.002887   cur    100  \n",
       "4  0.006891   cur    101  "
      ]
     },
     "execution_count": 13,
     "metadata": {},
     "output_type": "execute_result"
    }
   ],
   "source": [
    "stats = pd.read_csv(dis_dir)\n",
    "stats.head()"
   ]
  },
  {
   "cell_type": "code",
   "execution_count": 14,
   "metadata": {},
   "outputs": [
    {
     "data": {
      "text/plain": [
       "np.int64(20040000)"
      ]
     },
     "execution_count": 14,
     "metadata": {},
     "output_type": "execute_result"
    }
   ],
   "source": [
    "stats['t'].max()"
   ]
  },
  {
   "cell_type": "code",
   "execution_count": 15,
   "metadata": {},
   "outputs": [
    {
     "data": {
      "text/plain": [
       "shape\n",
       "cur    1\n",
       "Name: count, dtype: int64"
      ]
     },
     "execution_count": 15,
     "metadata": {},
     "output_type": "execute_result"
    }
   ],
   "source": [
    "stats_filtered = stats[stats['t']==20040000]\n",
    "stats_filtered['shape'].value_counts()"
   ]
  },
  {
   "cell_type": "code",
   "execution_count": 16,
   "metadata": {},
   "outputs": [
    {
     "name": "stdout",
     "output_type": "stream",
     "text": [
      "1\n"
     ]
    }
   ],
   "source": [
    "print(len(stats_filtered))"
   ]
  },
  {
   "cell_type": "code",
   "execution_count": 17,
   "metadata": {},
   "outputs": [],
   "source": [
    "with open('./restart.txt', 'w') as f:\n",
    "    for i in stats_filtered['name']:\n",
    "        f.write('   \\\"restart1_'+i+'.lammps\\\"\\n')"
   ]
  }
 ],
 "metadata": {
  "kernelspec": {
   "display_name": "curvature",
   "language": "python",
   "name": "python3"
  },
  "language_info": {
   "codemirror_mode": {
    "name": "ipython",
    "version": 3
   },
   "file_extension": ".py",
   "mimetype": "text/x-python",
   "name": "python",
   "nbconvert_exporter": "python",
   "pygments_lexer": "ipython3",
   "version": "3.12.8"
  }
 },
 "nbformat": 4,
 "nbformat_minor": 2
}
