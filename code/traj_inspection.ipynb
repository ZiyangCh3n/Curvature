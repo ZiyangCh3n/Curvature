{
 "cells": [
  {
   "cell_type": "code",
   "execution_count": 1,
   "metadata": {},
   "outputs": [],
   "source": [
    "import pandas as pd\n",
    "import numpy as np\n",
    "from pathlib import Path\n",
    "import os\n",
    "import shutil\n",
    "from tqdm import tqdm\n",
    "import matplotlib.pyplot as plt\n",
    "from mpl_toolkits.mplot3d import Axes3D\n",
    "from matplotlib import cm\n",
    "import MDAnalysis as mda\n",
    "from MDAnalysis.coordinates import LAMMPS\n",
    "from concurrent.futures import ProcessPoolExecutor\n",
    "import traceback"
   ]
  },
  {
   "cell_type": "code",
   "execution_count": 2,
   "metadata": {},
   "outputs": [],
   "source": [
    "def find_stop_displacement(t_thresh, t_step, df, d_thresh, window):\n",
    "    count = 0\n",
    "    offset = int(t_thresh / t_step)\n",
    "    for i in range(df.shape[0]):\n",
    "        if (i + offset) >= df.shape[0]:\n",
    "            break\n",
    "        x0, y0, z0 = df['x'].iloc[i], df['y'].iloc[i], df['z'].iloc[i]\n",
    "        x1, y1, z1 = df['x'].iloc[i + offset], df['y'].iloc[i + offset], df['z'].iloc[i + offset]\n",
    "        dist = np.sqrt((x1 - x0) ** 2 + (y1 - y0) ** 2 + (z1 - z0) ** 2)\n",
    "        if dist < d_thresh:\n",
    "            count += 1\n",
    "            if count >= window:\n",
    "                return i - window + 1\n",
    "        else:\n",
    "            count = 0\n",
    "    return df.shape[0] - 1\n",
    "\n",
    "def find_stop(d, i, threshold):\n",
    "    atom_style = 'id type x y z vx vy vz'\n",
    "    u = mda.Universe(d.replace('com', 'atoms'), format='LAMMPSDUMP', atom_style=atom_style, lengthunit=\"nm\", timeunit=\"ns\")\n",
    "    x, y, z = [], [], []\n",
    "    for ts in u.trajectory:\n",
    "        pos = u.atoms.positions\n",
    "        x.append(pos[i, 0])\n",
    "        y.append(pos[i, 1])\n",
    "        z.append(pos[i, 2])\n",
    "    df = pd.DataFrame({'x': x, 'y': y, 'z': z})\n",
    "    df['displacement'] = np.sqrt(df['x'].diff() ** 2 + df['y'].diff() ** 2 + df['z'].diff() ** 2)\n",
    "    for ind in range(1, len(df)):\n",
    "        if df['displacement'][ind] < threshold:\n",
    "            return ind\n",
    "    return len(df) - 1\n",
    "\n",
    "def read_bacteria_output(file_path):\n",
    "    time_steps, c_bac_com_data, c_com_v_data = [], [], []\n",
    "    with open(file_path, 'r') as f:\n",
    "        lines = f.readlines()\n",
    "        i = 0\n",
    "        while i < len(lines):\n",
    "            line = lines[i].strip()\n",
    "            if line.startswith('#') or not line:\n",
    "                i += 1\n",
    "                continue\n",
    "            if len(line.split()) == 2:\n",
    "                timestep, num_rows = map(int, line.split())\n",
    "                i += 1\n",
    "                for _ in range(num_rows):\n",
    "                    if _ < (num_rows - 1):\n",
    "                        i += 1\n",
    "                    else:\n",
    "                        row_data = list(map(float, lines[i].strip().split()))\n",
    "                        time_steps.append(timestep)\n",
    "                        c_bac_com_data.append(row_data[1:4])\n",
    "                        c_com_v_data.append(row_data[4:7])\n",
    "                        i += 1\n",
    "            else:\n",
    "                i += 1\n",
    "    df = pd.DataFrame({\n",
    "        'TimeStep': time_steps,\n",
    "        'x': [d[0] for d in c_bac_com_data],\n",
    "        'y': [d[1] for d in c_bac_com_data],\n",
    "        'z': [d[2] for d in c_bac_com_data],\n",
    "        'vx': [v[0] for v in c_com_v_data],\n",
    "        'vy': [v[1] for v in c_com_v_data],\n",
    "        'vz': [v[2] for v in c_com_v_data],\n",
    "    })\n",
    "    return df\n",
    "\n",
    "def get_euclidean_distance(df_original, ind):\n",
    "    df = df_original.copy()\n",
    "    df['v'] = np.sqrt(df['vx'] ** 2 + df['vy'] ** 2 + df['vz'] ** 2)\n",
    "    distances = np.sqrt(df['x'].diff() ** 2 + df['y'].diff() ** 2 + df['z'].diff() ** 2)\n",
    "    for i in range(1, len(df)):\n",
    "        if df['v'][i] <= 3e-5:\n",
    "            break\n",
    "    i = min(i, ind)\n",
    "    pos0 = df.iloc[0][['x', 'y', 'z']].values\n",
    "    pos_end = df.iloc[i][['x', 'y', 'z']].values\n",
    "    end_to_end = np.linalg.norm(pos_end - pos0)\n",
    "    traveled = distances[1:i + 1].sum()\n",
    "    vs = df['v'][1:i]\n",
    "    v_mean = vs.mean()\n",
    "    rms = np.sqrt((vs ** 2).mean())\n",
    "    return end_to_end, traveled, df['TimeStep'][i], v_mean, rms\n",
    "\n",
    "def plot_trajectory_with_lines(df_original, end_to_end, traveled, filename, ind, v_nb=0.007):\n",
    "    df = df_original.copy()\n",
    "    j = len(df)\n",
    "    df['speed'] = np.sqrt(df['vx'] ** 2 + df['vy'] ** 2 + df['vz'] ** 2)\n",
    "    for i in range(1, len(df)):\n",
    "        if df['speed'][i] <= 3e-5:\n",
    "            break\n",
    "    i = min(i, ind)\n",
    "    df = df[:i]\n",
    "    df['clipped_speed'] = np.clip(df['speed'], 0, v_nb) / v_nb\n",
    "    norm = plt.Normalize(0, 1)\n",
    "    colors = cm.viridis(norm(df['clipped_speed']))\n",
    "    fig = plt.figure(figsize=(10, 8))\n",
    "    ax = fig.add_subplot(111, projection='3d')\n",
    "    for i in range(len(df) - 1):\n",
    "        ax.plot(df['x'].iloc[i:i + 2], df['y'].iloc[i:i + 2], df['z'].iloc[i:i + 2], color=colors[i])\n",
    "    sc = ax.scatter(df['x'], df['y'], df['z'], c=df['clipped_speed'], cmap='viridis', s=10)\n",
    "    cbar = plt.colorbar(sc)\n",
    "    cbar.set_label('Speed Norm', rotation=270, labelpad=20)\n",
    "    ax.set_xlabel('X')\n",
    "    ax.set_ylabel('Y')\n",
    "    ax.set_zlabel('Z')\n",
    "    ax.set_title(f'COM Trajectory({i}/{j}), End-to-End Distance: {end_to_end:.2f}, Traveled Distance: {traveled:.2f}')\n",
    "    ax.text(df['x'].iloc[0], df['y'].iloc[0], df['z'].iloc[0], 't_start', color='red', fontsize=12, fontweight='bold')\n",
    "    ax.text(df['x'].iloc[-1], df['y'].iloc[-1], df['z'].iloc[-1], 't_end', color='blue', fontsize=12, fontweight='bold')\n",
    "    plt.savefig(filename, dpi=80, bbox_inches='tight')\n",
    "    plt.close()\n",
    "    return len(df)\n",
    "\n",
    "def process_one_trajectory(d):\n",
    "    try:\n",
    "        df_name = os.path.basename(d).removesuffix('.com')\n",
    "        ind1 = find_stop(d, 0, threshold=1e-3)\n",
    "        ind2 = find_stop(d, 12, threshold=1e-3)\n",
    "        df = read_bacteria_output(d)\n",
    "        ind3 = find_stop_displacement(t_thresh=400000, t_step=10000, df=df, d_thresh=1, window=50)\n",
    "        ind = min(ind1, ind2, ind3)\n",
    "        ete, trv, t, v, r = get_euclidean_distance(df, ind=ind)\n",
    "        img_path = str((Path(d).parent.parent / 'analysis' / (df_name + '.jpg')))\n",
    "        if ind != 0:\n",
    "            plot_trajectory_with_lines(df, ete, trv, img_path, ind=ind)\n",
    "        return {'name': df_name, 'ete': ete, 'trv': trv, 't': t, 'v_mean': v, 'v_rms': r}\n",
    "    except Exception as e:\n",
    "        print(f\"Failed processing {d}: {e}\")\n",
    "        traceback.print_exc()\n",
    "        return None"
   ]
  },
  {
   "cell_type": "code",
   "execution_count": 4,
   "metadata": {},
   "outputs": [],
   "source": [
    "d = \"/scratch/gpfs/ziyangc/Curvature/mesh/newmodel/working/realistic/cur0.95/output/cur_2.5_1.0_0.5_1.2_1.com\""
   ]
  },
  {
   "cell_type": "code",
   "execution_count": 32,
   "metadata": {},
   "outputs": [
    {
     "name": "stderr",
     "output_type": "stream",
     "text": [
      "/home/ziyangc/.conda/envs/curvature/lib/python3.12/site-packages/MDAnalysis/topology/LAMMPSParser.py:637: UserWarning: Guessed all Masses to 1.0\n",
      "  warnings.warn('Guessed all Masses to 1.0')\n",
      "/home/ziyangc/.conda/envs/curvature/lib/python3.12/site-packages/MDAnalysis/coordinates/LAMMPS.py:667: UserWarning: Reader has no dt information, set to 1.0 ps\n",
      "  ts.data['time'] = step_num * ts.dt\n",
      "/home/ziyangc/.conda/envs/curvature/lib/python3.12/site-packages/MDAnalysis/topology/LAMMPSParser.py:637: UserWarning: Guessed all Masses to 1.0\n",
      "  warnings.warn('Guessed all Masses to 1.0')\n",
      "/home/ziyangc/.conda/envs/curvature/lib/python3.12/site-packages/MDAnalysis/coordinates/LAMMPS.py:667: UserWarning: Reader has no dt information, set to 1.0 ps\n",
      "  ts.data['time'] = step_num * ts.dt\n"
     ]
    },
    {
     "data": {
      "text/plain": [
       "(2000, 2000, 776)"
      ]
     },
     "execution_count": 32,
     "metadata": {},
     "output_type": "execute_result"
    }
   ],
   "source": [
    "df_name = os.path.basename(d).removesuffix('.com')\n",
    "ind1 = find_stop(d, 0, threshold=1e-3)\n",
    "ind2 = find_stop(d, 12, threshold=1e-3)\n",
    "df = read_bacteria_output(d)\n",
    "ind3 = find_stop_displacement(t_thresh=400000, t_step=10000, df=df, d_thresh=2, window=50)\n",
    "ind = min(ind1, ind2, ind3)\n",
    "ete, trv, t, v, r = get_euclidean_distance(df, ind=ind)\n",
    "ind1, ind2, ind3"
   ]
  },
  {
   "cell_type": "code",
   "execution_count": 33,
   "metadata": {},
   "outputs": [
    {
     "data": {
      "text/plain": [
       "<matplotlib.lines.Line2D at 0x14e453688290>"
      ]
     },
     "execution_count": 33,
     "metadata": {},
     "output_type": "execute_result"
    },
    {
     "data": {
      "image/png": "[encoded data removed]",
      "text/plain": [
       "<Figure size 640x480 with 1 Axes>"
      ]
     },
     "metadata": {},
     "output_type": "display_data"
    }
   ],
   "source": [
    "plt.plot(df['x'])\n",
    "plt.plot(df['y'])\n",
    "plt.plot(df['z'])\n",
    "plt.axvline(ind1)\n",
    "plt.axvline(ind2)\n",
    "plt.axvline(ind3)"
   ]
  }
 ],
 "metadata": {
  "kernelspec": {
   "display_name": "curvature",
   "language": "python",
   "name": "python3"
  },
  "language_info": {
   "codemirror_mode": {
    "name": "ipython",
    "version": 3
   },
   "file_extension": ".py",
   "mimetype": "text/x-python",
   "name": "python",
   "nbconvert_exporter": "python",
   "pygments_lexer": "ipython3",
   "version": "3.12.8"
  }
 },
 "nbformat": 4,
 "nbformat_minor": 2
}
